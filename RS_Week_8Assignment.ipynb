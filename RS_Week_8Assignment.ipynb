{
 "cells": [
  {
   "cell_type": "code",
   "execution_count": 1,
   "metadata": {},
   "outputs": [],
   "source": [
    "import seaborn as sns\n",
    "import pandas as pd\n",
    "import math\n",
    "%matplotlib inline\n",
    "import matplotlib.pyplot as plt\n",
    "import numpy as np\n",
    "# data prep\n",
    "from sklearn.model_selection import train_test_split\n",
    "# ML algos\n",
    "from sklearn.linear_model import LinearRegression\n",
    "# metrics \n",
    "from sklearn.metrics import mean_squared_error, mean_absolute_error\n",
    "from scipy import stats"
   ]
  },
  {
   "cell_type": "code",
   "execution_count": 2,
   "metadata": {},
   "outputs": [],
   "source": [
    "revenue = {\"Date\": ['2000q1','2000q2','2000q3','2000q4','2001q1','2001q2','2001q3','2001q4','2002q1','2002q2','2002q3','2002q4'],\n",
    "           \"Revenue\": ['1517','1248','1677','1393','1558', '1368', '1790', '1396', '1638', '1507', '1868', '1510'],\n",
    "           \"Europe_GDP\": ['1728.244', '1749.6', '1769.2586', '1789.2533','1819.1398', '1833.7128', '1845.8787', '1861.9357', '1878.7827', '1893.8006', '1914.8373', '1927.3414'],\n",
    "           \"China_GDP\": ['257.65', '290.44', '310.55', '352.7', '290.97', '322.92', '342.32', '383.2', '317.67', '352.72', '377.63', '422.48'],\n",
    "           \"Price_index\": ['246.5', '326.4', '322.5', '321', '329.4', '329.8', '313.3', '302.1', '296.5', '301', '298.9', '292.2'],\n",
    "           \"Nike_revenue\": ['2161.6', '2272.7', '2636.7', '2198.7', '2170.1', '2483.3', '2613.7', '2336.8', '2260.3', '2682.2', '2796.3', '2514.7']}"
   ]
  },
  {
   "cell_type": "code",
   "execution_count": 3,
   "metadata": {},
   "outputs": [
    {
     "data": {
      "text/html": [
       "<div>\n",
       "<style scoped>\n",
       "    .dataframe tbody tr th:only-of-type {\n",
       "        vertical-align: middle;\n",
       "    }\n",
       "\n",
       "    .dataframe tbody tr th {\n",
       "        vertical-align: top;\n",
       "    }\n",
       "\n",
       "    .dataframe thead th {\n",
       "        text-align: right;\n",
       "    }\n",
       "</style>\n",
       "<table border=\"1\" class=\"dataframe\">\n",
       "  <thead>\n",
       "    <tr style=\"text-align: right;\">\n",
       "      <th></th>\n",
       "      <th>Date</th>\n",
       "      <th>Revenue</th>\n",
       "      <th>Europe_GDP</th>\n",
       "      <th>China_GDP</th>\n",
       "      <th>Price_index</th>\n",
       "      <th>Nike_revenue</th>\n",
       "      <th>Time</th>\n",
       "    </tr>\n",
       "  </thead>\n",
       "  <tbody>\n",
       "    <tr>\n",
       "      <th>0</th>\n",
       "      <td>2000q1</td>\n",
       "      <td>1517</td>\n",
       "      <td>1728.244</td>\n",
       "      <td>257.65</td>\n",
       "      <td>246.5</td>\n",
       "      <td>2161.6</td>\n",
       "      <td>0</td>\n",
       "    </tr>\n",
       "    <tr>\n",
       "      <th>1</th>\n",
       "      <td>2000q2</td>\n",
       "      <td>1248</td>\n",
       "      <td>1749.6</td>\n",
       "      <td>290.44</td>\n",
       "      <td>326.4</td>\n",
       "      <td>2272.7</td>\n",
       "      <td>1</td>\n",
       "    </tr>\n",
       "    <tr>\n",
       "      <th>2</th>\n",
       "      <td>2000q3</td>\n",
       "      <td>1677</td>\n",
       "      <td>1769.2586</td>\n",
       "      <td>310.55</td>\n",
       "      <td>322.5</td>\n",
       "      <td>2636.7</td>\n",
       "      <td>2</td>\n",
       "    </tr>\n",
       "    <tr>\n",
       "      <th>3</th>\n",
       "      <td>2000q4</td>\n",
       "      <td>1393</td>\n",
       "      <td>1789.2533</td>\n",
       "      <td>352.7</td>\n",
       "      <td>321</td>\n",
       "      <td>2198.7</td>\n",
       "      <td>3</td>\n",
       "    </tr>\n",
       "    <tr>\n",
       "      <th>4</th>\n",
       "      <td>2001q1</td>\n",
       "      <td>1558</td>\n",
       "      <td>1819.1398</td>\n",
       "      <td>290.97</td>\n",
       "      <td>329.4</td>\n",
       "      <td>2170.1</td>\n",
       "      <td>4</td>\n",
       "    </tr>\n",
       "  </tbody>\n",
       "</table>\n",
       "</div>"
      ],
      "text/plain": [
       "     Date Revenue Europe_GDP China_GDP Price_index Nike_revenue  Time\n",
       "0  2000q1    1517   1728.244    257.65       246.5       2161.6     0\n",
       "1  2000q2    1248     1749.6    290.44       326.4       2272.7     1\n",
       "2  2000q3    1677  1769.2586    310.55       322.5       2636.7     2\n",
       "3  2000q4    1393  1789.2533     352.7         321       2198.7     3\n",
       "4  2001q1    1558  1819.1398    290.97       329.4       2170.1     4"
      ]
     },
     "execution_count": 3,
     "metadata": {},
     "output_type": "execute_result"
    }
   ],
   "source": [
    "df = pd.DataFrame(revenue)\n",
    "df['Time'] = np.arange(len(df.index))\n",
    "df.head()"
   ]
  },
  {
   "cell_type": "code",
   "execution_count": 4,
   "metadata": {},
   "outputs": [],
   "source": [
    "df['Revenue'] = df['Revenue'].astype('float64')\n",
    "df['Europe_GDP'] = df['Europe_GDP'].astype('float64')\n",
    "df['China_GDP'] = df['China_GDP'].astype('float64')\n",
    "df['Price_index'] = df['China_GDP'].astype('float64')\n",
    "df['Nike_revenue'] = df['Nike_revenue'].astype('float64')"
   ]
  },
  {
   "cell_type": "code",
   "execution_count": 5,
   "metadata": {},
   "outputs": [
    {
     "data": {
      "text/html": [
       "<div>\n",
       "<style scoped>\n",
       "    .dataframe tbody tr th:only-of-type {\n",
       "        vertical-align: middle;\n",
       "    }\n",
       "\n",
       "    .dataframe tbody tr th {\n",
       "        vertical-align: top;\n",
       "    }\n",
       "\n",
       "    .dataframe thead th {\n",
       "        text-align: right;\n",
       "    }\n",
       "</style>\n",
       "<table border=\"1\" class=\"dataframe\">\n",
       "  <thead>\n",
       "    <tr style=\"text-align: right;\">\n",
       "      <th></th>\n",
       "      <th>Revenue</th>\n",
       "      <th>Europe_GDP</th>\n",
       "      <th>China_GDP</th>\n",
       "      <th>Price_index</th>\n",
       "      <th>Nike_revenue</th>\n",
       "      <th>Time</th>\n",
       "    </tr>\n",
       "  </thead>\n",
       "  <tbody>\n",
       "    <tr>\n",
       "      <th>count</th>\n",
       "      <td>12.000000</td>\n",
       "      <td>12.000000</td>\n",
       "      <td>12.000000</td>\n",
       "      <td>12.000000</td>\n",
       "      <td>12.000000</td>\n",
       "      <td>12.000000</td>\n",
       "    </tr>\n",
       "    <tr>\n",
       "      <th>mean</th>\n",
       "      <td>1539.166667</td>\n",
       "      <td>1834.315408</td>\n",
       "      <td>335.104167</td>\n",
       "      <td>335.104167</td>\n",
       "      <td>2427.258333</td>\n",
       "      <td>5.500000</td>\n",
       "    </tr>\n",
       "    <tr>\n",
       "      <th>std</th>\n",
       "      <td>180.525412</td>\n",
       "      <td>64.997564</td>\n",
       "      <td>46.147356</td>\n",
       "      <td>46.147356</td>\n",
       "      <td>221.459984</td>\n",
       "      <td>3.605551</td>\n",
       "    </tr>\n",
       "    <tr>\n",
       "      <th>min</th>\n",
       "      <td>1248.000000</td>\n",
       "      <td>1728.244000</td>\n",
       "      <td>257.650000</td>\n",
       "      <td>257.650000</td>\n",
       "      <td>2161.600000</td>\n",
       "      <td>0.000000</td>\n",
       "    </tr>\n",
       "    <tr>\n",
       "      <th>25%</th>\n",
       "      <td>1395.250000</td>\n",
       "      <td>1784.254625</td>\n",
       "      <td>305.655000</td>\n",
       "      <td>305.655000</td>\n",
       "      <td>2244.900000</td>\n",
       "      <td>2.750000</td>\n",
       "    </tr>\n",
       "    <tr>\n",
       "      <th>50%</th>\n",
       "      <td>1513.500000</td>\n",
       "      <td>1839.795750</td>\n",
       "      <td>332.620000</td>\n",
       "      <td>332.620000</td>\n",
       "      <td>2410.050000</td>\n",
       "      <td>5.500000</td>\n",
       "    </tr>\n",
       "    <tr>\n",
       "      <th>75%</th>\n",
       "      <td>1647.750000</td>\n",
       "      <td>1882.537175</td>\n",
       "      <td>358.947500</td>\n",
       "      <td>358.947500</td>\n",
       "      <td>2619.450000</td>\n",
       "      <td>8.250000</td>\n",
       "    </tr>\n",
       "    <tr>\n",
       "      <th>max</th>\n",
       "      <td>1868.000000</td>\n",
       "      <td>1927.341400</td>\n",
       "      <td>422.480000</td>\n",
       "      <td>422.480000</td>\n",
       "      <td>2796.300000</td>\n",
       "      <td>11.000000</td>\n",
       "    </tr>\n",
       "  </tbody>\n",
       "</table>\n",
       "</div>"
      ],
      "text/plain": [
       "           Revenue   Europe_GDP   China_GDP  Price_index  Nike_revenue  \\\n",
       "count    12.000000    12.000000   12.000000    12.000000     12.000000   \n",
       "mean   1539.166667  1834.315408  335.104167   335.104167   2427.258333   \n",
       "std     180.525412    64.997564   46.147356    46.147356    221.459984   \n",
       "min    1248.000000  1728.244000  257.650000   257.650000   2161.600000   \n",
       "25%    1395.250000  1784.254625  305.655000   305.655000   2244.900000   \n",
       "50%    1513.500000  1839.795750  332.620000   332.620000   2410.050000   \n",
       "75%    1647.750000  1882.537175  358.947500   358.947500   2619.450000   \n",
       "max    1868.000000  1927.341400  422.480000   422.480000   2796.300000   \n",
       "\n",
       "            Time  \n",
       "count  12.000000  \n",
       "mean    5.500000  \n",
       "std     3.605551  \n",
       "min     0.000000  \n",
       "25%     2.750000  \n",
       "50%     5.500000  \n",
       "75%     8.250000  \n",
       "max    11.000000  "
      ]
     },
     "execution_count": 5,
     "metadata": {},
     "output_type": "execute_result"
    }
   ],
   "source": [
    "df.describe()"
   ]
  },
  {
   "cell_type": "markdown",
   "metadata": {},
   "source": [
    "<div class=\"alert alert-block alert-success\">\n",
    "\n",
    "**Could you make a prediction about the trend of the total revenue for the third quarter for both Adidas and Nike? If yes, do you expect the revenue of 2003 to increase or decrease during the same quarter?**\n",
    "\n",
    "</div>"
   ]
  },
  {
   "cell_type": "markdown",
   "metadata": {},
   "source": [
    "<div class=\"alert alert-block alert-success\">\n",
    "\n",
    "**ADIDAS**\n",
    "\n",
    "</div>"
   ]
  },
  {
   "cell_type": "code",
   "execution_count": 99,
   "metadata": {},
   "outputs": [],
   "source": [
    "df['Revenue_log'] = np.log(df['Revenue'])"
   ]
  },
  {
   "cell_type": "code",
   "execution_count": 100,
   "metadata": {},
   "outputs": [
    {
     "data": {
      "text/plain": [
       "<matplotlib.axes._subplots.AxesSubplot at 0x7fbcb096fd50>"
      ]
     },
     "execution_count": 100,
     "metadata": {},
     "output_type": "execute_result"
    },
    {
     "data": {
      "image/png": "[encoded data removed]",
      "text/plain": [
       "<Figure size 432x288 with 1 Axes>"
      ]
     },
     "metadata": {
      "needs_background": "light"
     },
     "output_type": "display_data"
    }
   ],
   "source": [
    "sns.distplot(df['Revenue_log'])"
   ]
  },
  {
   "cell_type": "code",
   "execution_count": 6,
   "metadata": {},
   "outputs": [],
   "source": [
    "X = np.array(df['Time'])\n",
    "y = np.array(df['Revenue'])\n",
    "X = X.reshape(-1, 1)\n",
    "y = y.reshape(-1,1)"
   ]
  },
  {
   "cell_type": "code",
   "execution_count": 19,
   "metadata": {},
   "outputs": [],
   "source": [
    "test_size = 4 #75:25 split\n",
    "\n",
    "X_train, X_test, y_train, y_test = X[:-test_size], X[-test_size:], y[:-test_size], y[-test_size:]"
   ]
  },
  {
   "cell_type": "code",
   "execution_count": 20,
   "metadata": {},
   "outputs": [
    {
     "data": {
      "text/plain": [
       "[<matplotlib.lines.Line2D at 0x7fbcae700a10>]"
      ]
     },
     "execution_count": 20,
     "metadata": {},
     "output_type": "execute_result"
    },
    {
     "data": {
      "image/png": "[encoded data removed]",
      "text/plain": [
       "<Figure size 432x288 with 1 Axes>"
      ]
     },
     "metadata": {
      "needs_background": "light"
     },
     "output_type": "display_data"
    }
   ],
   "source": [
    "plt.title('Adidas Revenue', size = 10)\n",
    "#plt.scatter(df['Time'],df['Revenue'])\n",
    "plt.plot(X_test, y_test, label = 'Test set', color = 'orange')\n",
    "plt.plot(X_train, y_train, label = 'Train set')"
   ]
  },
  {
   "cell_type": "code",
   "execution_count": 21,
   "metadata": {},
   "outputs": [
    {
     "data": {
      "text/plain": [
       "LinearRegression(copy_X=True, fit_intercept=True, n_jobs=None, normalize=False)"
      ]
     },
     "execution_count": 21,
     "metadata": {},
     "output_type": "execute_result"
    }
   ],
   "source": [
    "model = LinearRegression()\n",
    "model.fit(X_train,y_train)\n",
    "#model.score(X_train,y_train)"
   ]
  },
  {
   "cell_type": "code",
   "execution_count": 22,
   "metadata": {},
   "outputs": [],
   "source": [
    "y_pred = model.predict(X_test)"
   ]
  },
  {
   "cell_type": "code",
   "execution_count": 24,
   "metadata": {},
   "outputs": [
    {
     "data": {
      "text/plain": [
       "[<matplotlib.lines.Line2D at 0x7fbcae74bc10>]"
      ]
     },
     "execution_count": 24,
     "metadata": {},
     "output_type": "execute_result"
    },
    {
     "data": {
      "image/png": "[encoded data removed]",
      "text/plain": [
       "<Figure size 432x288 with 1 Axes>"
      ]
     },
     "metadata": {
      "needs_background": "light"
     },
     "output_type": "display_data"
    }
   ],
   "source": [
    "plt.plot(X_test, y_test, label = 'Test set', color = 'orange')\n",
    "plt.plot(X_test, y_pred, label = 'Train set')"
   ]
  },
  {
   "cell_type": "code",
   "execution_count": 26,
   "metadata": {},
   "outputs": [],
   "source": [
    "y_pred_period = model.predict(X)"
   ]
  },
  {
   "cell_type": "code",
   "execution_count": 28,
   "metadata": {},
   "outputs": [
    {
     "data": {
      "text/plain": [
       "[<matplotlib.lines.Line2D at 0x7fbcaf1509d0>]"
      ]
     },
     "execution_count": 28,
     "metadata": {},
     "output_type": "execute_result"
    },
    {
     "data": {
      "image/png": "[encoded data removed]",
      "text/plain": [
       "<Figure size 432x288 with 1 Axes>"
      ]
     },
     "metadata": {
      "needs_background": "light"
     },
     "output_type": "display_data"
    }
   ],
   "source": [
    "plt.plot(X, y, label = 'Adidas Revenue')\n",
    "plt.plot(X, y_pred_period, label = 'Model', color = 'orange')"
   ]
  },
  {
   "cell_type": "code",
   "execution_count": 33,
   "metadata": {},
   "outputs": [
    {
     "name": "stdout",
     "output_type": "stream",
     "text": [
      "\n",
      "Regression statistics\n",
      "\n",
      "                      Mean Error (ME) : 19.5774\n",
      "       Root Mean Squared Error (RMSE) : 162.2502\n",
      "            Mean Absolute Error (MAE) : 142.0536\n",
      "          Mean Percentage Error (MPE) : 0.1642\n",
      "Mean Absolute Percentage Error (MAPE) : 9.1514\n"
     ]
    }
   ],
   "source": [
    "from dmba import regressionSummary\n",
    "regressionSummary(y, model.predict(X))"
   ]
  },
  {
   "cell_type": "markdown",
   "metadata": {},
   "source": [
    "<div class=\"alert alert-block alert-success\">\n",
    "\n",
    "**ADIDAS PREDICTIONS**\n",
    "\n",
    "</div>"
   ]
  },
  {
   "cell_type": "code",
   "execution_count": 34,
   "metadata": {},
   "outputs": [],
   "source": [
    "future_revenue = {\"Date\": ['2003q1','2003q2','2003q3','2003q4']}"
   ]
  },
  {
   "cell_type": "code",
   "execution_count": 35,
   "metadata": {},
   "outputs": [
    {
     "data": {
      "text/html": [
       "<div>\n",
       "<style scoped>\n",
       "    .dataframe tbody tr th:only-of-type {\n",
       "        vertical-align: middle;\n",
       "    }\n",
       "\n",
       "    .dataframe tbody tr th {\n",
       "        vertical-align: top;\n",
       "    }\n",
       "\n",
       "    .dataframe thead th {\n",
       "        text-align: right;\n",
       "    }\n",
       "</style>\n",
       "<table border=\"1\" class=\"dataframe\">\n",
       "  <thead>\n",
       "    <tr style=\"text-align: right;\">\n",
       "      <th></th>\n",
       "      <th>Date</th>\n",
       "      <th>Time</th>\n",
       "      <th>Revenue</th>\n",
       "    </tr>\n",
       "  </thead>\n",
       "  <tbody>\n",
       "    <tr>\n",
       "      <th>0</th>\n",
       "      <td>2000q1</td>\n",
       "      <td>0</td>\n",
       "      <td>1517.0</td>\n",
       "    </tr>\n",
       "    <tr>\n",
       "      <th>1</th>\n",
       "      <td>2000q2</td>\n",
       "      <td>1</td>\n",
       "      <td>1248.0</td>\n",
       "    </tr>\n",
       "    <tr>\n",
       "      <th>2</th>\n",
       "      <td>2000q3</td>\n",
       "      <td>2</td>\n",
       "      <td>1677.0</td>\n",
       "    </tr>\n",
       "    <tr>\n",
       "      <th>3</th>\n",
       "      <td>2000q4</td>\n",
       "      <td>3</td>\n",
       "      <td>1393.0</td>\n",
       "    </tr>\n",
       "    <tr>\n",
       "      <th>4</th>\n",
       "      <td>2001q1</td>\n",
       "      <td>4</td>\n",
       "      <td>1558.0</td>\n",
       "    </tr>\n",
       "    <tr>\n",
       "      <th>5</th>\n",
       "      <td>2001q2</td>\n",
       "      <td>5</td>\n",
       "      <td>1368.0</td>\n",
       "    </tr>\n",
       "    <tr>\n",
       "      <th>6</th>\n",
       "      <td>2001q3</td>\n",
       "      <td>6</td>\n",
       "      <td>1790.0</td>\n",
       "    </tr>\n",
       "    <tr>\n",
       "      <th>7</th>\n",
       "      <td>2001q4</td>\n",
       "      <td>7</td>\n",
       "      <td>1396.0</td>\n",
       "    </tr>\n",
       "    <tr>\n",
       "      <th>8</th>\n",
       "      <td>2002q1</td>\n",
       "      <td>8</td>\n",
       "      <td>1638.0</td>\n",
       "    </tr>\n",
       "    <tr>\n",
       "      <th>9</th>\n",
       "      <td>2002q2</td>\n",
       "      <td>9</td>\n",
       "      <td>1507.0</td>\n",
       "    </tr>\n",
       "    <tr>\n",
       "      <th>10</th>\n",
       "      <td>2002q3</td>\n",
       "      <td>10</td>\n",
       "      <td>1868.0</td>\n",
       "    </tr>\n",
       "    <tr>\n",
       "      <th>11</th>\n",
       "      <td>2002q4</td>\n",
       "      <td>11</td>\n",
       "      <td>1510.0</td>\n",
       "    </tr>\n",
       "    <tr>\n",
       "      <th>12</th>\n",
       "      <td>2003q1</td>\n",
       "      <td>12</td>\n",
       "      <td>NaN</td>\n",
       "    </tr>\n",
       "    <tr>\n",
       "      <th>13</th>\n",
       "      <td>2003q2</td>\n",
       "      <td>13</td>\n",
       "      <td>NaN</td>\n",
       "    </tr>\n",
       "    <tr>\n",
       "      <th>14</th>\n",
       "      <td>2003q3</td>\n",
       "      <td>14</td>\n",
       "      <td>NaN</td>\n",
       "    </tr>\n",
       "    <tr>\n",
       "      <th>15</th>\n",
       "      <td>2003q4</td>\n",
       "      <td>15</td>\n",
       "      <td>NaN</td>\n",
       "    </tr>\n",
       "  </tbody>\n",
       "</table>\n",
       "</div>"
      ],
      "text/plain": [
       "      Date  Time  Revenue\n",
       "0   2000q1     0   1517.0\n",
       "1   2000q2     1   1248.0\n",
       "2   2000q3     2   1677.0\n",
       "3   2000q4     3   1393.0\n",
       "4   2001q1     4   1558.0\n",
       "5   2001q2     5   1368.0\n",
       "6   2001q3     6   1790.0\n",
       "7   2001q4     7   1396.0\n",
       "8   2002q1     8   1638.0\n",
       "9   2002q2     9   1507.0\n",
       "10  2002q3    10   1868.0\n",
       "11  2002q4    11   1510.0\n",
       "12  2003q1    12      NaN\n",
       "13  2003q2    13      NaN\n",
       "14  2003q3    14      NaN\n",
       "15  2003q4    15      NaN"
      ]
     },
     "execution_count": 35,
     "metadata": {},
     "output_type": "execute_result"
    }
   ],
   "source": [
    "df2 = pd.DataFrame(future_revenue)\n",
    "new_dates = pd.concat([df['Date'],df2['Date']],ignore_index = True)\n",
    "df2 = pd.DataFrame(new_dates)\n",
    "df2['Time'] = np.arange(len(df2.index))\n",
    "df2['Revenue'] = df['Revenue']\n",
    "\n",
    "df2"
   ]
  },
  {
   "cell_type": "code",
   "execution_count": 36,
   "metadata": {},
   "outputs": [],
   "source": [
    "X = np.array(df2['Time'])\n",
    "X = X.reshape(-1, 1)"
   ]
  },
  {
   "cell_type": "code",
   "execution_count": 37,
   "metadata": {},
   "outputs": [
    {
     "data": {
      "text/html": [
       "<div>\n",
       "<style scoped>\n",
       "    .dataframe tbody tr th:only-of-type {\n",
       "        vertical-align: middle;\n",
       "    }\n",
       "\n",
       "    .dataframe tbody tr th {\n",
       "        vertical-align: top;\n",
       "    }\n",
       "\n",
       "    .dataframe thead th {\n",
       "        text-align: right;\n",
       "    }\n",
       "</style>\n",
       "<table border=\"1\" class=\"dataframe\">\n",
       "  <thead>\n",
       "    <tr style=\"text-align: right;\">\n",
       "      <th></th>\n",
       "      <th>Date</th>\n",
       "      <th>Time</th>\n",
       "      <th>Revenue</th>\n",
       "      <th>Predict</th>\n",
       "    </tr>\n",
       "  </thead>\n",
       "  <tbody>\n",
       "    <tr>\n",
       "      <th>0</th>\n",
       "      <td>2000q1</td>\n",
       "      <td>0</td>\n",
       "      <td>1517.0</td>\n",
       "      <td>1447.500000</td>\n",
       "    </tr>\n",
       "    <tr>\n",
       "      <th>1</th>\n",
       "      <td>2000q2</td>\n",
       "      <td>1</td>\n",
       "      <td>1248.0</td>\n",
       "      <td>1460.607143</td>\n",
       "    </tr>\n",
       "    <tr>\n",
       "      <th>2</th>\n",
       "      <td>2000q3</td>\n",
       "      <td>2</td>\n",
       "      <td>1677.0</td>\n",
       "      <td>1473.714286</td>\n",
       "    </tr>\n",
       "    <tr>\n",
       "      <th>3</th>\n",
       "      <td>2000q4</td>\n",
       "      <td>3</td>\n",
       "      <td>1393.0</td>\n",
       "      <td>1486.821429</td>\n",
       "    </tr>\n",
       "    <tr>\n",
       "      <th>4</th>\n",
       "      <td>2001q1</td>\n",
       "      <td>4</td>\n",
       "      <td>1558.0</td>\n",
       "      <td>1499.928571</td>\n",
       "    </tr>\n",
       "    <tr>\n",
       "      <th>5</th>\n",
       "      <td>2001q2</td>\n",
       "      <td>5</td>\n",
       "      <td>1368.0</td>\n",
       "      <td>1513.035714</td>\n",
       "    </tr>\n",
       "    <tr>\n",
       "      <th>6</th>\n",
       "      <td>2001q3</td>\n",
       "      <td>6</td>\n",
       "      <td>1790.0</td>\n",
       "      <td>1526.142857</td>\n",
       "    </tr>\n",
       "    <tr>\n",
       "      <th>7</th>\n",
       "      <td>2001q4</td>\n",
       "      <td>7</td>\n",
       "      <td>1396.0</td>\n",
       "      <td>1539.250000</td>\n",
       "    </tr>\n",
       "    <tr>\n",
       "      <th>8</th>\n",
       "      <td>2002q1</td>\n",
       "      <td>8</td>\n",
       "      <td>1638.0</td>\n",
       "      <td>1552.357143</td>\n",
       "    </tr>\n",
       "    <tr>\n",
       "      <th>9</th>\n",
       "      <td>2002q2</td>\n",
       "      <td>9</td>\n",
       "      <td>1507.0</td>\n",
       "      <td>1565.464286</td>\n",
       "    </tr>\n",
       "    <tr>\n",
       "      <th>10</th>\n",
       "      <td>2002q3</td>\n",
       "      <td>10</td>\n",
       "      <td>1868.0</td>\n",
       "      <td>1578.571429</td>\n",
       "    </tr>\n",
       "    <tr>\n",
       "      <th>11</th>\n",
       "      <td>2002q4</td>\n",
       "      <td>11</td>\n",
       "      <td>1510.0</td>\n",
       "      <td>1591.678571</td>\n",
       "    </tr>\n",
       "    <tr>\n",
       "      <th>12</th>\n",
       "      <td>2003q1</td>\n",
       "      <td>12</td>\n",
       "      <td>NaN</td>\n",
       "      <td>1604.785714</td>\n",
       "    </tr>\n",
       "    <tr>\n",
       "      <th>13</th>\n",
       "      <td>2003q2</td>\n",
       "      <td>13</td>\n",
       "      <td>NaN</td>\n",
       "      <td>1617.892857</td>\n",
       "    </tr>\n",
       "    <tr>\n",
       "      <th>14</th>\n",
       "      <td>2003q3</td>\n",
       "      <td>14</td>\n",
       "      <td>NaN</td>\n",
       "      <td>1631.000000</td>\n",
       "    </tr>\n",
       "    <tr>\n",
       "      <th>15</th>\n",
       "      <td>2003q4</td>\n",
       "      <td>15</td>\n",
       "      <td>NaN</td>\n",
       "      <td>1644.107143</td>\n",
       "    </tr>\n",
       "  </tbody>\n",
       "</table>\n",
       "</div>"
      ],
      "text/plain": [
       "      Date  Time  Revenue      Predict\n",
       "0   2000q1     0   1517.0  1447.500000\n",
       "1   2000q2     1   1248.0  1460.607143\n",
       "2   2000q3     2   1677.0  1473.714286\n",
       "3   2000q4     3   1393.0  1486.821429\n",
       "4   2001q1     4   1558.0  1499.928571\n",
       "5   2001q2     5   1368.0  1513.035714\n",
       "6   2001q3     6   1790.0  1526.142857\n",
       "7   2001q4     7   1396.0  1539.250000\n",
       "8   2002q1     8   1638.0  1552.357143\n",
       "9   2002q2     9   1507.0  1565.464286\n",
       "10  2002q3    10   1868.0  1578.571429\n",
       "11  2002q4    11   1510.0  1591.678571\n",
       "12  2003q1    12      NaN  1604.785714\n",
       "13  2003q2    13      NaN  1617.892857\n",
       "14  2003q3    14      NaN  1631.000000\n",
       "15  2003q4    15      NaN  1644.107143"
      ]
     },
     "execution_count": 37,
     "metadata": {},
     "output_type": "execute_result"
    }
   ],
   "source": [
    "df2['Predict'] = model.predict(X)\n",
    "df2"
   ]
  },
  {
   "cell_type": "code",
   "execution_count": 38,
   "metadata": {},
   "outputs": [
    {
     "data": {
      "text/plain": [
       "[<matplotlib.lines.Line2D at 0x7fbcaf34f3d0>]"
      ]
     },
     "execution_count": 38,
     "metadata": {},
     "output_type": "execute_result"
    },
    {
     "data": {
      "image/png": "[encoded data removed]",
      "text/plain": [
       "<Figure size 432x288 with 1 Axes>"
      ]
     },
     "metadata": {
      "needs_background": "light"
     },
     "output_type": "display_data"
    }
   ],
   "source": [
    "plt.title('Adidas Revenue', size = 10)\n",
    "plt.scatter(df['Time'],df['Revenue'])\n",
    "plt.plot(df2['Time'], df2['Predict'], label = 'Predicted')"
   ]
  },
  {
   "cell_type": "markdown",
   "metadata": {},
   "source": [
    "According to the linear regression model (MAPE = 9.15%), 2003Q3 is forecasted to present a value of 1631. When compared to previous results fromo the model, the revenue is showing an expected increase. \n",
    "\n",
    "Using the website https://www.calculator.net/z-score-calculator.html?c1raw=7.5326&c1mean=7.3327&c1sd=0.1166&calctype=zscore&x=93&y=17 and using the mean (7.3327) and stdev (0.1166) of the logarithimic value of Adidas revenue, the chance of the Revenue to be higher than 2002Q3(7.53) is P(X<Z) = 0.95677. That is, the probability of 2003Q3 revenue to be higher than 2002Q3 is around 4.3%."
   ]
  },
  {
   "cell_type": "markdown",
   "metadata": {},
   "source": [
    "<div class=\"alert alert-block alert-success\">\n",
    "\n",
    "**NIKE**\n",
    "\n",
    "</div>"
   ]
  },
  {
   "cell_type": "markdown",
   "metadata": {},
   "source": [
    "For Nike, the same methodology was used"
   ]
  },
  {
   "cell_type": "code",
   "execution_count": 101,
   "metadata": {},
   "outputs": [],
   "source": [
    "df['Nike_Revenue_log'] = np.log(df['Nike_revenue'])"
   ]
  },
  {
   "cell_type": "code",
   "execution_count": 102,
   "metadata": {},
   "outputs": [
    {
     "data": {
      "text/plain": [
       "0     7.678604\n",
       "1     7.728724\n",
       "2     7.877283\n",
       "3     7.695622\n",
       "4     7.682529\n",
       "5     7.817344\n",
       "6     7.868522\n",
       "7     7.756538\n",
       "8     7.723253\n",
       "9     7.894393\n",
       "10    7.936052\n",
       "11    7.829909\n",
       "Name: Nike_Revenue_log, dtype: float64"
      ]
     },
     "execution_count": 102,
     "metadata": {},
     "output_type": "execute_result"
    }
   ],
   "source": [
    "df['Nike_Revenue_log']"
   ]
  },
  {
   "cell_type": "code",
   "execution_count": 85,
   "metadata": {},
   "outputs": [],
   "source": [
    "X = np.array(df['Time'])\n",
    "y = np.array(df['Nike_revenue'])\n",
    "X = X.reshape(-1, 1)\n",
    "y = y.reshape(-1,1)"
   ]
  },
  {
   "cell_type": "code",
   "execution_count": 86,
   "metadata": {},
   "outputs": [],
   "source": [
    "test_size = 4 #75:25 split\n",
    "\n",
    "X_train, X_test, y_train, y_test = X[:-test_size], X[-test_size:], y[:-test_size], y[-test_size:]"
   ]
  },
  {
   "cell_type": "code",
   "execution_count": 87,
   "metadata": {},
   "outputs": [
    {
     "data": {
      "text/plain": [
       "LinearRegression(copy_X=True, fit_intercept=True, n_jobs=None, normalize=False)"
      ]
     },
     "execution_count": 87,
     "metadata": {},
     "output_type": "execute_result"
    }
   ],
   "source": [
    "model = LinearRegression()\n",
    "model.fit(X_train,y_train)\n",
    "#model.score(X_train,y_train)"
   ]
  },
  {
   "cell_type": "code",
   "execution_count": 88,
   "metadata": {},
   "outputs": [],
   "source": [
    "y_pred = model.predict(X_test)"
   ]
  },
  {
   "cell_type": "code",
   "execution_count": 89,
   "metadata": {},
   "outputs": [
    {
     "data": {
      "text/plain": [
       "[<matplotlib.lines.Line2D at 0x7fbcb0587fd0>]"
      ]
     },
     "execution_count": 89,
     "metadata": {},
     "output_type": "execute_result"
    },
    {
     "data": {
      "image/png": "[encoded data removed]",
      "text/plain": [
       "<Figure size 432x288 with 1 Axes>"
      ]
     },
     "metadata": {
      "needs_background": "light"
     },
     "output_type": "display_data"
    }
   ],
   "source": [
    "plt.plot(X_test, y_test, label = 'Test set', color = 'orange')\n",
    "plt.plot(X_test, y_pred, label = 'Train set')"
   ]
  },
  {
   "cell_type": "code",
   "execution_count": 90,
   "metadata": {},
   "outputs": [],
   "source": [
    "y_pred_period = model.predict(X)"
   ]
  },
  {
   "cell_type": "code",
   "execution_count": 91,
   "metadata": {},
   "outputs": [
    {
     "data": {
      "text/plain": [
       "[<matplotlib.lines.Line2D at 0x7fbcb0587a10>]"
      ]
     },
     "execution_count": 91,
     "metadata": {},
     "output_type": "execute_result"
    },
    {
     "data": {
      "image/png": "[encoded data removed]",
      "text/plain": [
       "<Figure size 432x288 with 1 Axes>"
      ]
     },
     "metadata": {
      "needs_background": "light"
     },
     "output_type": "display_data"
    }
   ],
   "source": [
    "plt.plot(X, y, label = 'Nike Revenue')\n",
    "plt.plot(X, y_pred_period, label = 'Model', color = 'orange')"
   ]
  },
  {
   "cell_type": "code",
   "execution_count": 92,
   "metadata": {},
   "outputs": [
    {
     "name": "stdout",
     "output_type": "stream",
     "text": [
      "\n",
      "Regression statistics\n",
      "\n",
      "                      Mean Error (ME) : 9.9012\n",
      "       Root Mean Squared Error (RMSE) : 176.7899\n",
      "            Mean Absolute Error (MAE) : 155.8589\n",
      "          Mean Percentage Error (MPE) : -0.1419\n",
      "Mean Absolute Percentage Error (MAPE) : 6.3631\n"
     ]
    }
   ],
   "source": [
    "from dmba import regressionSummary\n",
    "regressionSummary(y, model.predict(X))"
   ]
  },
  {
   "cell_type": "markdown",
   "metadata": {},
   "source": [
    "<div class=\"alert alert-block alert-success\">\n",
    "\n",
    "**NIKE PREDICTIONS**\n",
    "\n",
    "</div>"
   ]
  },
  {
   "cell_type": "code",
   "execution_count": 93,
   "metadata": {},
   "outputs": [
    {
     "data": {
      "text/html": [
       "<div>\n",
       "<style scoped>\n",
       "    .dataframe tbody tr th:only-of-type {\n",
       "        vertical-align: middle;\n",
       "    }\n",
       "\n",
       "    .dataframe tbody tr th {\n",
       "        vertical-align: top;\n",
       "    }\n",
       "\n",
       "    .dataframe thead th {\n",
       "        text-align: right;\n",
       "    }\n",
       "</style>\n",
       "<table border=\"1\" class=\"dataframe\">\n",
       "  <thead>\n",
       "    <tr style=\"text-align: right;\">\n",
       "      <th></th>\n",
       "      <th>Date</th>\n",
       "      <th>Time</th>\n",
       "      <th>Revenue</th>\n",
       "      <th>Predict</th>\n",
       "      <th>Nike_revenue</th>\n",
       "    </tr>\n",
       "  </thead>\n",
       "  <tbody>\n",
       "    <tr>\n",
       "      <th>0</th>\n",
       "      <td>2000q1</td>\n",
       "      <td>0</td>\n",
       "      <td>1517.0</td>\n",
       "      <td>1447.500000</td>\n",
       "      <td>2161.6</td>\n",
       "    </tr>\n",
       "    <tr>\n",
       "      <th>1</th>\n",
       "      <td>2000q2</td>\n",
       "      <td>1</td>\n",
       "      <td>1248.0</td>\n",
       "      <td>1460.607143</td>\n",
       "      <td>2272.7</td>\n",
       "    </tr>\n",
       "    <tr>\n",
       "      <th>2</th>\n",
       "      <td>2000q3</td>\n",
       "      <td>2</td>\n",
       "      <td>1677.0</td>\n",
       "      <td>1473.714286</td>\n",
       "      <td>2636.7</td>\n",
       "    </tr>\n",
       "    <tr>\n",
       "      <th>3</th>\n",
       "      <td>2000q4</td>\n",
       "      <td>3</td>\n",
       "      <td>1393.0</td>\n",
       "      <td>1486.821429</td>\n",
       "      <td>2198.7</td>\n",
       "    </tr>\n",
       "    <tr>\n",
       "      <th>4</th>\n",
       "      <td>2001q1</td>\n",
       "      <td>4</td>\n",
       "      <td>1558.0</td>\n",
       "      <td>1499.928571</td>\n",
       "      <td>2170.1</td>\n",
       "    </tr>\n",
       "    <tr>\n",
       "      <th>5</th>\n",
       "      <td>2001q2</td>\n",
       "      <td>5</td>\n",
       "      <td>1368.0</td>\n",
       "      <td>1513.035714</td>\n",
       "      <td>2483.3</td>\n",
       "    </tr>\n",
       "    <tr>\n",
       "      <th>6</th>\n",
       "      <td>2001q3</td>\n",
       "      <td>6</td>\n",
       "      <td>1790.0</td>\n",
       "      <td>1526.142857</td>\n",
       "      <td>2613.7</td>\n",
       "    </tr>\n",
       "    <tr>\n",
       "      <th>7</th>\n",
       "      <td>2001q4</td>\n",
       "      <td>7</td>\n",
       "      <td>1396.0</td>\n",
       "      <td>1539.250000</td>\n",
       "      <td>2336.8</td>\n",
       "    </tr>\n",
       "    <tr>\n",
       "      <th>8</th>\n",
       "      <td>2002q1</td>\n",
       "      <td>8</td>\n",
       "      <td>1638.0</td>\n",
       "      <td>1552.357143</td>\n",
       "      <td>2260.3</td>\n",
       "    </tr>\n",
       "    <tr>\n",
       "      <th>9</th>\n",
       "      <td>2002q2</td>\n",
       "      <td>9</td>\n",
       "      <td>1507.0</td>\n",
       "      <td>1565.464286</td>\n",
       "      <td>2682.2</td>\n",
       "    </tr>\n",
       "    <tr>\n",
       "      <th>10</th>\n",
       "      <td>2002q3</td>\n",
       "      <td>10</td>\n",
       "      <td>1868.0</td>\n",
       "      <td>1578.571429</td>\n",
       "      <td>2796.3</td>\n",
       "    </tr>\n",
       "    <tr>\n",
       "      <th>11</th>\n",
       "      <td>2002q4</td>\n",
       "      <td>11</td>\n",
       "      <td>1510.0</td>\n",
       "      <td>1591.678571</td>\n",
       "      <td>2514.7</td>\n",
       "    </tr>\n",
       "    <tr>\n",
       "      <th>12</th>\n",
       "      <td>2003q1</td>\n",
       "      <td>12</td>\n",
       "      <td>NaN</td>\n",
       "      <td>1604.785714</td>\n",
       "      <td>NaN</td>\n",
       "    </tr>\n",
       "    <tr>\n",
       "      <th>13</th>\n",
       "      <td>2003q2</td>\n",
       "      <td>13</td>\n",
       "      <td>NaN</td>\n",
       "      <td>1617.892857</td>\n",
       "      <td>NaN</td>\n",
       "    </tr>\n",
       "    <tr>\n",
       "      <th>14</th>\n",
       "      <td>2003q3</td>\n",
       "      <td>14</td>\n",
       "      <td>NaN</td>\n",
       "      <td>1631.000000</td>\n",
       "      <td>NaN</td>\n",
       "    </tr>\n",
       "    <tr>\n",
       "      <th>15</th>\n",
       "      <td>2003q4</td>\n",
       "      <td>15</td>\n",
       "      <td>NaN</td>\n",
       "      <td>1644.107143</td>\n",
       "      <td>NaN</td>\n",
       "    </tr>\n",
       "  </tbody>\n",
       "</table>\n",
       "</div>"
      ],
      "text/plain": [
       "      Date  Time  Revenue      Predict  Nike_revenue\n",
       "0   2000q1     0   1517.0  1447.500000        2161.6\n",
       "1   2000q2     1   1248.0  1460.607143        2272.7\n",
       "2   2000q3     2   1677.0  1473.714286        2636.7\n",
       "3   2000q4     3   1393.0  1486.821429        2198.7\n",
       "4   2001q1     4   1558.0  1499.928571        2170.1\n",
       "5   2001q2     5   1368.0  1513.035714        2483.3\n",
       "6   2001q3     6   1790.0  1526.142857        2613.7\n",
       "7   2001q4     7   1396.0  1539.250000        2336.8\n",
       "8   2002q1     8   1638.0  1552.357143        2260.3\n",
       "9   2002q2     9   1507.0  1565.464286        2682.2\n",
       "10  2002q3    10   1868.0  1578.571429        2796.3\n",
       "11  2002q4    11   1510.0  1591.678571        2514.7\n",
       "12  2003q1    12      NaN  1604.785714           NaN\n",
       "13  2003q2    13      NaN  1617.892857           NaN\n",
       "14  2003q3    14      NaN  1631.000000           NaN\n",
       "15  2003q4    15      NaN  1644.107143           NaN"
      ]
     },
     "execution_count": 93,
     "metadata": {},
     "output_type": "execute_result"
    }
   ],
   "source": [
    "df2['Nike_revenue'] = df['Nike_revenue']\n",
    "\n",
    "\n",
    "df2"
   ]
  },
  {
   "cell_type": "code",
   "execution_count": 94,
   "metadata": {},
   "outputs": [],
   "source": [
    "X = np.array(df2['Time'])\n",
    "X = X.reshape(-1, 1)"
   ]
  },
  {
   "cell_type": "code",
   "execution_count": 95,
   "metadata": {},
   "outputs": [
    {
     "data": {
      "text/html": [
       "<div>\n",
       "<style scoped>\n",
       "    .dataframe tbody tr th:only-of-type {\n",
       "        vertical-align: middle;\n",
       "    }\n",
       "\n",
       "    .dataframe tbody tr th {\n",
       "        vertical-align: top;\n",
       "    }\n",
       "\n",
       "    .dataframe thead th {\n",
       "        text-align: right;\n",
       "    }\n",
       "</style>\n",
       "<table border=\"1\" class=\"dataframe\">\n",
       "  <thead>\n",
       "    <tr style=\"text-align: right;\">\n",
       "      <th></th>\n",
       "      <th>Date</th>\n",
       "      <th>Time</th>\n",
       "      <th>Revenue</th>\n",
       "      <th>Predict</th>\n",
       "      <th>Nike_revenue</th>\n",
       "      <th>Nike_Predict</th>\n",
       "    </tr>\n",
       "  </thead>\n",
       "  <tbody>\n",
       "    <tr>\n",
       "      <th>0</th>\n",
       "      <td>2000q1</td>\n",
       "      <td>0</td>\n",
       "      <td>1517.0</td>\n",
       "      <td>1447.500000</td>\n",
       "      <td>2161.6</td>\n",
       "      <td>2257.425000</td>\n",
       "    </tr>\n",
       "    <tr>\n",
       "      <th>1</th>\n",
       "      <td>2000q2</td>\n",
       "      <td>1</td>\n",
       "      <td>1248.0</td>\n",
       "      <td>1460.607143</td>\n",
       "      <td>2272.7</td>\n",
       "      <td>2286.503571</td>\n",
       "    </tr>\n",
       "    <tr>\n",
       "      <th>2</th>\n",
       "      <td>2000q3</td>\n",
       "      <td>2</td>\n",
       "      <td>1677.0</td>\n",
       "      <td>1473.714286</td>\n",
       "      <td>2636.7</td>\n",
       "      <td>2315.582143</td>\n",
       "    </tr>\n",
       "    <tr>\n",
       "      <th>3</th>\n",
       "      <td>2000q4</td>\n",
       "      <td>3</td>\n",
       "      <td>1393.0</td>\n",
       "      <td>1486.821429</td>\n",
       "      <td>2198.7</td>\n",
       "      <td>2344.660714</td>\n",
       "    </tr>\n",
       "    <tr>\n",
       "      <th>4</th>\n",
       "      <td>2001q1</td>\n",
       "      <td>4</td>\n",
       "      <td>1558.0</td>\n",
       "      <td>1499.928571</td>\n",
       "      <td>2170.1</td>\n",
       "      <td>2373.739286</td>\n",
       "    </tr>\n",
       "    <tr>\n",
       "      <th>5</th>\n",
       "      <td>2001q2</td>\n",
       "      <td>5</td>\n",
       "      <td>1368.0</td>\n",
       "      <td>1513.035714</td>\n",
       "      <td>2483.3</td>\n",
       "      <td>2402.817857</td>\n",
       "    </tr>\n",
       "    <tr>\n",
       "      <th>6</th>\n",
       "      <td>2001q3</td>\n",
       "      <td>6</td>\n",
       "      <td>1790.0</td>\n",
       "      <td>1526.142857</td>\n",
       "      <td>2613.7</td>\n",
       "      <td>2431.896429</td>\n",
       "    </tr>\n",
       "    <tr>\n",
       "      <th>7</th>\n",
       "      <td>2001q4</td>\n",
       "      <td>7</td>\n",
       "      <td>1396.0</td>\n",
       "      <td>1539.250000</td>\n",
       "      <td>2336.8</td>\n",
       "      <td>2460.975000</td>\n",
       "    </tr>\n",
       "    <tr>\n",
       "      <th>8</th>\n",
       "      <td>2002q1</td>\n",
       "      <td>8</td>\n",
       "      <td>1638.0</td>\n",
       "      <td>1552.357143</td>\n",
       "      <td>2260.3</td>\n",
       "      <td>2490.053571</td>\n",
       "    </tr>\n",
       "    <tr>\n",
       "      <th>9</th>\n",
       "      <td>2002q2</td>\n",
       "      <td>9</td>\n",
       "      <td>1507.0</td>\n",
       "      <td>1565.464286</td>\n",
       "      <td>2682.2</td>\n",
       "      <td>2519.132143</td>\n",
       "    </tr>\n",
       "    <tr>\n",
       "      <th>10</th>\n",
       "      <td>2002q3</td>\n",
       "      <td>10</td>\n",
       "      <td>1868.0</td>\n",
       "      <td>1578.571429</td>\n",
       "      <td>2796.3</td>\n",
       "      <td>2548.210714</td>\n",
       "    </tr>\n",
       "    <tr>\n",
       "      <th>11</th>\n",
       "      <td>2002q4</td>\n",
       "      <td>11</td>\n",
       "      <td>1510.0</td>\n",
       "      <td>1591.678571</td>\n",
       "      <td>2514.7</td>\n",
       "      <td>2577.289286</td>\n",
       "    </tr>\n",
       "    <tr>\n",
       "      <th>12</th>\n",
       "      <td>2003q1</td>\n",
       "      <td>12</td>\n",
       "      <td>NaN</td>\n",
       "      <td>1604.785714</td>\n",
       "      <td>NaN</td>\n",
       "      <td>2606.367857</td>\n",
       "    </tr>\n",
       "    <tr>\n",
       "      <th>13</th>\n",
       "      <td>2003q2</td>\n",
       "      <td>13</td>\n",
       "      <td>NaN</td>\n",
       "      <td>1617.892857</td>\n",
       "      <td>NaN</td>\n",
       "      <td>2635.446429</td>\n",
       "    </tr>\n",
       "    <tr>\n",
       "      <th>14</th>\n",
       "      <td>2003q3</td>\n",
       "      <td>14</td>\n",
       "      <td>NaN</td>\n",
       "      <td>1631.000000</td>\n",
       "      <td>NaN</td>\n",
       "      <td>2664.525000</td>\n",
       "    </tr>\n",
       "    <tr>\n",
       "      <th>15</th>\n",
       "      <td>2003q4</td>\n",
       "      <td>15</td>\n",
       "      <td>NaN</td>\n",
       "      <td>1644.107143</td>\n",
       "      <td>NaN</td>\n",
       "      <td>2693.603571</td>\n",
       "    </tr>\n",
       "  </tbody>\n",
       "</table>\n",
       "</div>"
      ],
      "text/plain": [
       "      Date  Time  Revenue      Predict  Nike_revenue  Nike_Predict\n",
       "0   2000q1     0   1517.0  1447.500000        2161.6   2257.425000\n",
       "1   2000q2     1   1248.0  1460.607143        2272.7   2286.503571\n",
       "2   2000q3     2   1677.0  1473.714286        2636.7   2315.582143\n",
       "3   2000q4     3   1393.0  1486.821429        2198.7   2344.660714\n",
       "4   2001q1     4   1558.0  1499.928571        2170.1   2373.739286\n",
       "5   2001q2     5   1368.0  1513.035714        2483.3   2402.817857\n",
       "6   2001q3     6   1790.0  1526.142857        2613.7   2431.896429\n",
       "7   2001q4     7   1396.0  1539.250000        2336.8   2460.975000\n",
       "8   2002q1     8   1638.0  1552.357143        2260.3   2490.053571\n",
       "9   2002q2     9   1507.0  1565.464286        2682.2   2519.132143\n",
       "10  2002q3    10   1868.0  1578.571429        2796.3   2548.210714\n",
       "11  2002q4    11   1510.0  1591.678571        2514.7   2577.289286\n",
       "12  2003q1    12      NaN  1604.785714           NaN   2606.367857\n",
       "13  2003q2    13      NaN  1617.892857           NaN   2635.446429\n",
       "14  2003q3    14      NaN  1631.000000           NaN   2664.525000\n",
       "15  2003q4    15      NaN  1644.107143           NaN   2693.603571"
      ]
     },
     "execution_count": 95,
     "metadata": {},
     "output_type": "execute_result"
    }
   ],
   "source": [
    "df2['Nike_Predict'] = model.predict(X)\n",
    "df2"
   ]
  },
  {
   "cell_type": "code",
   "execution_count": 97,
   "metadata": {},
   "outputs": [
    {
     "data": {
      "text/plain": [
       "[<matplotlib.lines.Line2D at 0x7fbcb08b9150>]"
      ]
     },
     "execution_count": 97,
     "metadata": {},
     "output_type": "execute_result"
    },
    {
     "data": {
      "image/png": "[encoded data removed]",
      "text/plain": [
       "<Figure size 432x288 with 1 Axes>"
      ]
     },
     "metadata": {
      "needs_background": "light"
     },
     "output_type": "display_data"
    }
   ],
   "source": [
    "plt.title('Nike Revenue', size = 10)\n",
    "plt.scatter(df['Time'],df['Nike_revenue'])\n",
    "plt.plot(df2['Time'], df2['Nike_Predict'], label = 'Predicted')"
   ]
  },
  {
   "cell_type": "markdown",
   "metadata": {},
   "source": [
    "\n",
    "The model generated for Nike presented a MAPE of 6.36%. The model is predicting an increase in revenue for 2003Q3 when compared to 2002Q3.  \n",
    "\n",
    "However, according to the z-score, P(X<7.9360) = 0.94554. This means that there is a 5.4% chances that the revenue will increase in Q3 of 2003.\n",
    "\n",
    "\n",
    "Raw score = 7.9360\n",
    "Mean = 7.7907\n",
    "stdev = 0.0907\n",
    "Z score = 1.60198\n"
   ]
  },
  {
   "cell_type": "markdown",
   "metadata": {},
   "source": [
    "<div class=\"alert alert-block alert-success\">\n",
    "\n",
    "**Could you make the same prediction about Adidas’s sales in China and about the price index for the same quarter in 2003? If no, can you make a conclusion for these features about any of the quarters?**\n",
    "\n",
    "</div>"
   ]
  },
  {
   "cell_type": "markdown",
   "metadata": {},
   "source": [
    "According to the table, the sales in China are not explicitly provided. \n",
    "\n",
    "Obviously, it is possible to see that both Revenue and GDP increase in Europe. Therefore, a correlation between GDP and Revenue might exist. However, to assume that GDP is the only factor affecting Revenue is misleading and, therefore, I believe that this is not something that is possible to be calculated.\n",
    "\n",
    "Price index calculations were conducted in the same way as the previous models. Results are shown below."
   ]
  },
  {
   "cell_type": "markdown",
   "metadata": {},
   "source": [
    "<div class=\"alert alert-block alert-success\">\n",
    "\n",
    "**PRICE INDEX**\n",
    "\n",
    "</div>"
   ]
  },
  {
   "cell_type": "code",
   "execution_count": 105,
   "metadata": {},
   "outputs": [],
   "source": [
    "df['Price_index_log'] = np.log(df['Price_index'])"
   ]
  },
  {
   "cell_type": "code",
   "execution_count": 120,
   "metadata": {},
   "outputs": [
    {
     "data": {
      "text/plain": [
       "0     5.551602\n",
       "1     5.671397\n",
       "2     5.738345\n",
       "3     5.865618\n",
       "4     5.673220\n",
       "5     5.777405\n",
       "6     5.835746\n",
       "7     5.948557\n",
       "8     5.761013\n",
       "9     5.865675\n",
       "10    5.933915\n",
       "11    6.046142\n",
       "Name: Price_index_log, dtype: float64"
      ]
     },
     "execution_count": 120,
     "metadata": {},
     "output_type": "execute_result"
    }
   ],
   "source": [
    "df['Price_index_log']"
   ]
  },
  {
   "cell_type": "code",
   "execution_count": 107,
   "metadata": {},
   "outputs": [],
   "source": [
    "X = np.array(df['Time'])\n",
    "y = np.array(df['Price_index'])\n",
    "X = X.reshape(-1, 1)\n",
    "y = y.reshape(-1,1)"
   ]
  },
  {
   "cell_type": "code",
   "execution_count": 108,
   "metadata": {},
   "outputs": [],
   "source": [
    "test_size = 4 #75:25 split\n",
    "\n",
    "X_train, X_test, y_train, y_test = X[:-test_size], X[-test_size:], y[:-test_size], y[-test_size:]"
   ]
  },
  {
   "cell_type": "code",
   "execution_count": 109,
   "metadata": {},
   "outputs": [
    {
     "data": {
      "text/plain": [
       "LinearRegression(copy_X=True, fit_intercept=True, n_jobs=None, normalize=False)"
      ]
     },
     "execution_count": 109,
     "metadata": {},
     "output_type": "execute_result"
    }
   ],
   "source": [
    "model = LinearRegression()\n",
    "model.fit(X_train,y_train)"
   ]
  },
  {
   "cell_type": "code",
   "execution_count": 110,
   "metadata": {},
   "outputs": [],
   "source": [
    "y_pred = model.predict(X_test)"
   ]
  },
  {
   "cell_type": "code",
   "execution_count": 111,
   "metadata": {},
   "outputs": [
    {
     "data": {
      "text/plain": [
       "[<matplotlib.lines.Line2D at 0x7fbcb05ddad0>]"
      ]
     },
     "execution_count": 111,
     "metadata": {},
     "output_type": "execute_result"
    },
    {
     "data": {
      "image/png": "[encoded data removed]",
      "text/plain": [
       "<Figure size 432x288 with 1 Axes>"
      ]
     },
     "metadata": {
      "needs_background": "light"
     },
     "output_type": "display_data"
    }
   ],
   "source": [
    "plt.plot(X_test, y_test, label = 'Test set', color = 'orange')\n",
    "plt.plot(X_test, y_pred, label = 'Train set')"
   ]
  },
  {
   "cell_type": "code",
   "execution_count": 112,
   "metadata": {},
   "outputs": [],
   "source": [
    "y_pred_period = model.predict(X)"
   ]
  },
  {
   "cell_type": "code",
   "execution_count": 113,
   "metadata": {},
   "outputs": [
    {
     "data": {
      "text/plain": [
       "[<matplotlib.lines.Line2D at 0x7fbcb0b47090>]"
      ]
     },
     "execution_count": 113,
     "metadata": {},
     "output_type": "execute_result"
    },
    {
     "data": {
      "image/png": "[encoded data removed]",
      "text/plain": [
       "<Figure size 432x288 with 1 Axes>"
      ]
     },
     "metadata": {
      "needs_background": "light"
     },
     "output_type": "display_data"
    }
   ],
   "source": [
    "plt.plot(X, y, label = 'Price Index')\n",
    "plt.plot(X, y_pred_period, label = 'Model', color = 'orange')"
   ]
  },
  {
   "cell_type": "code",
   "execution_count": 114,
   "metadata": {},
   "outputs": [
    {
     "name": "stdout",
     "output_type": "stream",
     "text": [
      "\n",
      "Regression statistics\n",
      "\n",
      "                      Mean Error (ME) : -10.2546\n",
      "       Root Mean Squared Error (RMSE) : 28.6697\n",
      "            Mean Absolute Error (MAE) : 23.4175\n",
      "          Mean Percentage Error (MPE) : -3.3554\n",
      "Mean Absolute Percentage Error (MAPE) : 7.1095\n"
     ]
    }
   ],
   "source": [
    "regressionSummary(y, model.predict(X))"
   ]
  },
  {
   "cell_type": "markdown",
   "metadata": {},
   "source": [
    "<div class=\"alert alert-block alert-success\">\n",
    "\n",
    "**PRICE INDEX PREDICTIONS**\n",
    "\n",
    "</div>"
   ]
  },
  {
   "cell_type": "code",
   "execution_count": 115,
   "metadata": {},
   "outputs": [],
   "source": [
    "X = np.array(df2['Time'])\n",
    "X = X.reshape(-1, 1)"
   ]
  },
  {
   "cell_type": "code",
   "execution_count": 116,
   "metadata": {},
   "outputs": [
    {
     "data": {
      "text/html": [
       "<div>\n",
       "<style scoped>\n",
       "    .dataframe tbody tr th:only-of-type {\n",
       "        vertical-align: middle;\n",
       "    }\n",
       "\n",
       "    .dataframe tbody tr th {\n",
       "        vertical-align: top;\n",
       "    }\n",
       "\n",
       "    .dataframe thead th {\n",
       "        text-align: right;\n",
       "    }\n",
       "</style>\n",
       "<table border=\"1\" class=\"dataframe\">\n",
       "  <thead>\n",
       "    <tr style=\"text-align: right;\">\n",
       "      <th></th>\n",
       "      <th>Date</th>\n",
       "      <th>Time</th>\n",
       "      <th>Revenue</th>\n",
       "      <th>Predict</th>\n",
       "      <th>Nike_revenue</th>\n",
       "      <th>Nike_Predict</th>\n",
       "      <th>Price_index</th>\n",
       "    </tr>\n",
       "  </thead>\n",
       "  <tbody>\n",
       "    <tr>\n",
       "      <th>0</th>\n",
       "      <td>2000q1</td>\n",
       "      <td>0</td>\n",
       "      <td>1517.0</td>\n",
       "      <td>1447.500000</td>\n",
       "      <td>2161.6</td>\n",
       "      <td>2257.425000</td>\n",
       "      <td>257.65</td>\n",
       "    </tr>\n",
       "    <tr>\n",
       "      <th>1</th>\n",
       "      <td>2000q2</td>\n",
       "      <td>1</td>\n",
       "      <td>1248.0</td>\n",
       "      <td>1460.607143</td>\n",
       "      <td>2272.7</td>\n",
       "      <td>2286.503571</td>\n",
       "      <td>290.44</td>\n",
       "    </tr>\n",
       "    <tr>\n",
       "      <th>2</th>\n",
       "      <td>2000q3</td>\n",
       "      <td>2</td>\n",
       "      <td>1677.0</td>\n",
       "      <td>1473.714286</td>\n",
       "      <td>2636.7</td>\n",
       "      <td>2315.582143</td>\n",
       "      <td>310.55</td>\n",
       "    </tr>\n",
       "    <tr>\n",
       "      <th>3</th>\n",
       "      <td>2000q4</td>\n",
       "      <td>3</td>\n",
       "      <td>1393.0</td>\n",
       "      <td>1486.821429</td>\n",
       "      <td>2198.7</td>\n",
       "      <td>2344.660714</td>\n",
       "      <td>352.70</td>\n",
       "    </tr>\n",
       "    <tr>\n",
       "      <th>4</th>\n",
       "      <td>2001q1</td>\n",
       "      <td>4</td>\n",
       "      <td>1558.0</td>\n",
       "      <td>1499.928571</td>\n",
       "      <td>2170.1</td>\n",
       "      <td>2373.739286</td>\n",
       "      <td>290.97</td>\n",
       "    </tr>\n",
       "    <tr>\n",
       "      <th>5</th>\n",
       "      <td>2001q2</td>\n",
       "      <td>5</td>\n",
       "      <td>1368.0</td>\n",
       "      <td>1513.035714</td>\n",
       "      <td>2483.3</td>\n",
       "      <td>2402.817857</td>\n",
       "      <td>322.92</td>\n",
       "    </tr>\n",
       "    <tr>\n",
       "      <th>6</th>\n",
       "      <td>2001q3</td>\n",
       "      <td>6</td>\n",
       "      <td>1790.0</td>\n",
       "      <td>1526.142857</td>\n",
       "      <td>2613.7</td>\n",
       "      <td>2431.896429</td>\n",
       "      <td>342.32</td>\n",
       "    </tr>\n",
       "    <tr>\n",
       "      <th>7</th>\n",
       "      <td>2001q4</td>\n",
       "      <td>7</td>\n",
       "      <td>1396.0</td>\n",
       "      <td>1539.250000</td>\n",
       "      <td>2336.8</td>\n",
       "      <td>2460.975000</td>\n",
       "      <td>383.20</td>\n",
       "    </tr>\n",
       "    <tr>\n",
       "      <th>8</th>\n",
       "      <td>2002q1</td>\n",
       "      <td>8</td>\n",
       "      <td>1638.0</td>\n",
       "      <td>1552.357143</td>\n",
       "      <td>2260.3</td>\n",
       "      <td>2490.053571</td>\n",
       "      <td>317.67</td>\n",
       "    </tr>\n",
       "    <tr>\n",
       "      <th>9</th>\n",
       "      <td>2002q2</td>\n",
       "      <td>9</td>\n",
       "      <td>1507.0</td>\n",
       "      <td>1565.464286</td>\n",
       "      <td>2682.2</td>\n",
       "      <td>2519.132143</td>\n",
       "      <td>352.72</td>\n",
       "    </tr>\n",
       "    <tr>\n",
       "      <th>10</th>\n",
       "      <td>2002q3</td>\n",
       "      <td>10</td>\n",
       "      <td>1868.0</td>\n",
       "      <td>1578.571429</td>\n",
       "      <td>2796.3</td>\n",
       "      <td>2548.210714</td>\n",
       "      <td>377.63</td>\n",
       "    </tr>\n",
       "    <tr>\n",
       "      <th>11</th>\n",
       "      <td>2002q4</td>\n",
       "      <td>11</td>\n",
       "      <td>1510.0</td>\n",
       "      <td>1591.678571</td>\n",
       "      <td>2514.7</td>\n",
       "      <td>2577.289286</td>\n",
       "      <td>422.48</td>\n",
       "    </tr>\n",
       "    <tr>\n",
       "      <th>12</th>\n",
       "      <td>2003q1</td>\n",
       "      <td>12</td>\n",
       "      <td>NaN</td>\n",
       "      <td>1604.785714</td>\n",
       "      <td>NaN</td>\n",
       "      <td>2606.367857</td>\n",
       "      <td>NaN</td>\n",
       "    </tr>\n",
       "    <tr>\n",
       "      <th>13</th>\n",
       "      <td>2003q2</td>\n",
       "      <td>13</td>\n",
       "      <td>NaN</td>\n",
       "      <td>1617.892857</td>\n",
       "      <td>NaN</td>\n",
       "      <td>2635.446429</td>\n",
       "      <td>NaN</td>\n",
       "    </tr>\n",
       "    <tr>\n",
       "      <th>14</th>\n",
       "      <td>2003q3</td>\n",
       "      <td>14</td>\n",
       "      <td>NaN</td>\n",
       "      <td>1631.000000</td>\n",
       "      <td>NaN</td>\n",
       "      <td>2664.525000</td>\n",
       "      <td>NaN</td>\n",
       "    </tr>\n",
       "    <tr>\n",
       "      <th>15</th>\n",
       "      <td>2003q4</td>\n",
       "      <td>15</td>\n",
       "      <td>NaN</td>\n",
       "      <td>1644.107143</td>\n",
       "      <td>NaN</td>\n",
       "      <td>2693.603571</td>\n",
       "      <td>NaN</td>\n",
       "    </tr>\n",
       "  </tbody>\n",
       "</table>\n",
       "</div>"
      ],
      "text/plain": [
       "      Date  Time  Revenue      Predict  Nike_revenue  Nike_Predict  \\\n",
       "0   2000q1     0   1517.0  1447.500000        2161.6   2257.425000   \n",
       "1   2000q2     1   1248.0  1460.607143        2272.7   2286.503571   \n",
       "2   2000q3     2   1677.0  1473.714286        2636.7   2315.582143   \n",
       "3   2000q4     3   1393.0  1486.821429        2198.7   2344.660714   \n",
       "4   2001q1     4   1558.0  1499.928571        2170.1   2373.739286   \n",
       "5   2001q2     5   1368.0  1513.035714        2483.3   2402.817857   \n",
       "6   2001q3     6   1790.0  1526.142857        2613.7   2431.896429   \n",
       "7   2001q4     7   1396.0  1539.250000        2336.8   2460.975000   \n",
       "8   2002q1     8   1638.0  1552.357143        2260.3   2490.053571   \n",
       "9   2002q2     9   1507.0  1565.464286        2682.2   2519.132143   \n",
       "10  2002q3    10   1868.0  1578.571429        2796.3   2548.210714   \n",
       "11  2002q4    11   1510.0  1591.678571        2514.7   2577.289286   \n",
       "12  2003q1    12      NaN  1604.785714           NaN   2606.367857   \n",
       "13  2003q2    13      NaN  1617.892857           NaN   2635.446429   \n",
       "14  2003q3    14      NaN  1631.000000           NaN   2664.525000   \n",
       "15  2003q4    15      NaN  1644.107143           NaN   2693.603571   \n",
       "\n",
       "    Price_index  \n",
       "0        257.65  \n",
       "1        290.44  \n",
       "2        310.55  \n",
       "3        352.70  \n",
       "4        290.97  \n",
       "5        322.92  \n",
       "6        342.32  \n",
       "7        383.20  \n",
       "8        317.67  \n",
       "9        352.72  \n",
       "10       377.63  \n",
       "11       422.48  \n",
       "12          NaN  \n",
       "13          NaN  \n",
       "14          NaN  \n",
       "15          NaN  "
      ]
     },
     "execution_count": 116,
     "metadata": {},
     "output_type": "execute_result"
    }
   ],
   "source": [
    "df2['Price_index'] = df['Price_index']"
   ]
  },
  {
   "cell_type": "code",
   "execution_count": 117,
   "metadata": {},
   "outputs": [
    {
     "data": {
      "text/html": [
       "<div>\n",
       "<style scoped>\n",
       "    .dataframe tbody tr th:only-of-type {\n",
       "        vertical-align: middle;\n",
       "    }\n",
       "\n",
       "    .dataframe tbody tr th {\n",
       "        vertical-align: top;\n",
       "    }\n",
       "\n",
       "    .dataframe thead th {\n",
       "        text-align: right;\n",
       "    }\n",
       "</style>\n",
       "<table border=\"1\" class=\"dataframe\">\n",
       "  <thead>\n",
       "    <tr style=\"text-align: right;\">\n",
       "      <th></th>\n",
       "      <th>Date</th>\n",
       "      <th>Time</th>\n",
       "      <th>Revenue</th>\n",
       "      <th>Predict</th>\n",
       "      <th>Nike_revenue</th>\n",
       "      <th>Nike_Predict</th>\n",
       "      <th>Price_index</th>\n",
       "      <th>Price_index_predict</th>\n",
       "    </tr>\n",
       "  </thead>\n",
       "  <tbody>\n",
       "    <tr>\n",
       "      <th>0</th>\n",
       "      <td>2000q1</td>\n",
       "      <td>0</td>\n",
       "      <td>1517.0</td>\n",
       "      <td>1447.500000</td>\n",
       "      <td>2161.6</td>\n",
       "      <td>2257.425000</td>\n",
       "      <td>257.65</td>\n",
       "      <td>272.4425</td>\n",
       "    </tr>\n",
       "    <tr>\n",
       "      <th>1</th>\n",
       "      <td>2000q2</td>\n",
       "      <td>1</td>\n",
       "      <td>1248.0</td>\n",
       "      <td>1460.607143</td>\n",
       "      <td>2272.7</td>\n",
       "      <td>2286.503571</td>\n",
       "      <td>290.44</td>\n",
       "      <td>285.7000</td>\n",
       "    </tr>\n",
       "    <tr>\n",
       "      <th>2</th>\n",
       "      <td>2000q3</td>\n",
       "      <td>2</td>\n",
       "      <td>1677.0</td>\n",
       "      <td>1473.714286</td>\n",
       "      <td>2636.7</td>\n",
       "      <td>2315.582143</td>\n",
       "      <td>310.55</td>\n",
       "      <td>298.9575</td>\n",
       "    </tr>\n",
       "    <tr>\n",
       "      <th>3</th>\n",
       "      <td>2000q4</td>\n",
       "      <td>3</td>\n",
       "      <td>1393.0</td>\n",
       "      <td>1486.821429</td>\n",
       "      <td>2198.7</td>\n",
       "      <td>2344.660714</td>\n",
       "      <td>352.70</td>\n",
       "      <td>312.2150</td>\n",
       "    </tr>\n",
       "    <tr>\n",
       "      <th>4</th>\n",
       "      <td>2001q1</td>\n",
       "      <td>4</td>\n",
       "      <td>1558.0</td>\n",
       "      <td>1499.928571</td>\n",
       "      <td>2170.1</td>\n",
       "      <td>2373.739286</td>\n",
       "      <td>290.97</td>\n",
       "      <td>325.4725</td>\n",
       "    </tr>\n",
       "    <tr>\n",
       "      <th>5</th>\n",
       "      <td>2001q2</td>\n",
       "      <td>5</td>\n",
       "      <td>1368.0</td>\n",
       "      <td>1513.035714</td>\n",
       "      <td>2483.3</td>\n",
       "      <td>2402.817857</td>\n",
       "      <td>322.92</td>\n",
       "      <td>338.7300</td>\n",
       "    </tr>\n",
       "    <tr>\n",
       "      <th>6</th>\n",
       "      <td>2001q3</td>\n",
       "      <td>6</td>\n",
       "      <td>1790.0</td>\n",
       "      <td>1526.142857</td>\n",
       "      <td>2613.7</td>\n",
       "      <td>2431.896429</td>\n",
       "      <td>342.32</td>\n",
       "      <td>351.9875</td>\n",
       "    </tr>\n",
       "    <tr>\n",
       "      <th>7</th>\n",
       "      <td>2001q4</td>\n",
       "      <td>7</td>\n",
       "      <td>1396.0</td>\n",
       "      <td>1539.250000</td>\n",
       "      <td>2336.8</td>\n",
       "      <td>2460.975000</td>\n",
       "      <td>383.20</td>\n",
       "      <td>365.2450</td>\n",
       "    </tr>\n",
       "    <tr>\n",
       "      <th>8</th>\n",
       "      <td>2002q1</td>\n",
       "      <td>8</td>\n",
       "      <td>1638.0</td>\n",
       "      <td>1552.357143</td>\n",
       "      <td>2260.3</td>\n",
       "      <td>2490.053571</td>\n",
       "      <td>317.67</td>\n",
       "      <td>378.5025</td>\n",
       "    </tr>\n",
       "    <tr>\n",
       "      <th>9</th>\n",
       "      <td>2002q2</td>\n",
       "      <td>9</td>\n",
       "      <td>1507.0</td>\n",
       "      <td>1565.464286</td>\n",
       "      <td>2682.2</td>\n",
       "      <td>2519.132143</td>\n",
       "      <td>352.72</td>\n",
       "      <td>391.7600</td>\n",
       "    </tr>\n",
       "    <tr>\n",
       "      <th>10</th>\n",
       "      <td>2002q3</td>\n",
       "      <td>10</td>\n",
       "      <td>1868.0</td>\n",
       "      <td>1578.571429</td>\n",
       "      <td>2796.3</td>\n",
       "      <td>2548.210714</td>\n",
       "      <td>377.63</td>\n",
       "      <td>405.0175</td>\n",
       "    </tr>\n",
       "    <tr>\n",
       "      <th>11</th>\n",
       "      <td>2002q4</td>\n",
       "      <td>11</td>\n",
       "      <td>1510.0</td>\n",
       "      <td>1591.678571</td>\n",
       "      <td>2514.7</td>\n",
       "      <td>2577.289286</td>\n",
       "      <td>422.48</td>\n",
       "      <td>418.2750</td>\n",
       "    </tr>\n",
       "    <tr>\n",
       "      <th>12</th>\n",
       "      <td>2003q1</td>\n",
       "      <td>12</td>\n",
       "      <td>NaN</td>\n",
       "      <td>1604.785714</td>\n",
       "      <td>NaN</td>\n",
       "      <td>2606.367857</td>\n",
       "      <td>NaN</td>\n",
       "      <td>431.5325</td>\n",
       "    </tr>\n",
       "    <tr>\n",
       "      <th>13</th>\n",
       "      <td>2003q2</td>\n",
       "      <td>13</td>\n",
       "      <td>NaN</td>\n",
       "      <td>1617.892857</td>\n",
       "      <td>NaN</td>\n",
       "      <td>2635.446429</td>\n",
       "      <td>NaN</td>\n",
       "      <td>444.7900</td>\n",
       "    </tr>\n",
       "    <tr>\n",
       "      <th>14</th>\n",
       "      <td>2003q3</td>\n",
       "      <td>14</td>\n",
       "      <td>NaN</td>\n",
       "      <td>1631.000000</td>\n",
       "      <td>NaN</td>\n",
       "      <td>2664.525000</td>\n",
       "      <td>NaN</td>\n",
       "      <td>458.0475</td>\n",
       "    </tr>\n",
       "    <tr>\n",
       "      <th>15</th>\n",
       "      <td>2003q4</td>\n",
       "      <td>15</td>\n",
       "      <td>NaN</td>\n",
       "      <td>1644.107143</td>\n",
       "      <td>NaN</td>\n",
       "      <td>2693.603571</td>\n",
       "      <td>NaN</td>\n",
       "      <td>471.3050</td>\n",
       "    </tr>\n",
       "  </tbody>\n",
       "</table>\n",
       "</div>"
      ],
      "text/plain": [
       "      Date  Time  Revenue      Predict  Nike_revenue  Nike_Predict  \\\n",
       "0   2000q1     0   1517.0  1447.500000        2161.6   2257.425000   \n",
       "1   2000q2     1   1248.0  1460.607143        2272.7   2286.503571   \n",
       "2   2000q3     2   1677.0  1473.714286        2636.7   2315.582143   \n",
       "3   2000q4     3   1393.0  1486.821429        2198.7   2344.660714   \n",
       "4   2001q1     4   1558.0  1499.928571        2170.1   2373.739286   \n",
       "5   2001q2     5   1368.0  1513.035714        2483.3   2402.817857   \n",
       "6   2001q3     6   1790.0  1526.142857        2613.7   2431.896429   \n",
       "7   2001q4     7   1396.0  1539.250000        2336.8   2460.975000   \n",
       "8   2002q1     8   1638.0  1552.357143        2260.3   2490.053571   \n",
       "9   2002q2     9   1507.0  1565.464286        2682.2   2519.132143   \n",
       "10  2002q3    10   1868.0  1578.571429        2796.3   2548.210714   \n",
       "11  2002q4    11   1510.0  1591.678571        2514.7   2577.289286   \n",
       "12  2003q1    12      NaN  1604.785714           NaN   2606.367857   \n",
       "13  2003q2    13      NaN  1617.892857           NaN   2635.446429   \n",
       "14  2003q3    14      NaN  1631.000000           NaN   2664.525000   \n",
       "15  2003q4    15      NaN  1644.107143           NaN   2693.603571   \n",
       "\n",
       "    Price_index  Price_index_predict  \n",
       "0        257.65             272.4425  \n",
       "1        290.44             285.7000  \n",
       "2        310.55             298.9575  \n",
       "3        352.70             312.2150  \n",
       "4        290.97             325.4725  \n",
       "5        322.92             338.7300  \n",
       "6        342.32             351.9875  \n",
       "7        383.20             365.2450  \n",
       "8        317.67             378.5025  \n",
       "9        352.72             391.7600  \n",
       "10       377.63             405.0175  \n",
       "11       422.48             418.2750  \n",
       "12          NaN             431.5325  \n",
       "13          NaN             444.7900  \n",
       "14          NaN             458.0475  \n",
       "15          NaN             471.3050  "
      ]
     },
     "execution_count": 117,
     "metadata": {},
     "output_type": "execute_result"
    }
   ],
   "source": [
    "df2['Price_index_predict'] = model.predict(X)\n",
    "df2"
   ]
  },
  {
   "cell_type": "code",
   "execution_count": 118,
   "metadata": {},
   "outputs": [
    {
     "data": {
      "text/plain": [
       "[<matplotlib.lines.Line2D at 0x7fbcb08630d0>]"
      ]
     },
     "execution_count": 118,
     "metadata": {},
     "output_type": "execute_result"
    },
    {
     "data": {
      "image/png": "[encoded data removed]",
      "text/plain": [
       "<Figure size 432x288 with 1 Axes>"
      ]
     },
     "metadata": {
      "needs_background": "light"
     },
     "output_type": "display_data"
    }
   ],
   "source": [
    "plt.title('Price index', size = 10)\n",
    "plt.scatter(df['Time'],df['Price_index'])\n",
    "plt.plot(df2['Time'], df2['Price_index_predict'], label = 'Predicted')"
   ]
  },
  {
   "cell_type": "markdown",
   "metadata": {},
   "source": [
    "The model generated for Price index presented a MAPE of 7.1%. The model is predicting an increase in for 2003Q3 when compared to 2002Q3. From 377.63 to 458.04.\n",
    "\n",
    "According to the z-score, P(X<5.9339) = 0.82308. This means that there is a 17.6% chances that the revenue will increase in Q3 of 2003.\n",
    "\n",
    "Raw score = 5.9339\n",
    "Mean = 5.8057 \n",
    "stdev = 0.1382 \n",
    "Z score = 0.92717"
   ]
  },
  {
   "cell_type": "markdown",
   "metadata": {},
   "source": [
    "<div class=\"alert alert-block alert-success\">\n",
    "\n",
    "**Finally, which of the techniques or concepts you have learnt about in this programme so far would you use to draw your conclusions?**\n",
    "\n",
    "</div>"
   ]
  },
  {
   "cell_type": "markdown",
   "metadata": {},
   "source": [
    "The concepts of probability distribution, normal curves, standard deviations, mean, linear regression and estimators were important for me to draw my conclusions."
   ]
  },
  {
   "cell_type": "code",
   "execution_count": null,
   "metadata": {},
   "outputs": [],
   "source": []
  }
 ],
 "metadata": {
  "kernelspec": {
   "display_name": "Python 3",
   "language": "python",
   "name": "python3"
  },
  "language_info": {
   "codemirror_mode": {
    "name": "ipython",
    "version": 3
   },
   "file_extension": ".py",
   "mimetype": "text/x-python",
   "name": "python",
   "nbconvert_exporter": "python",
   "pygments_lexer": "ipython3",
   "version": "3.7.6"
  }
 },
 "nbformat": 4,
 "nbformat_minor": 4
}
